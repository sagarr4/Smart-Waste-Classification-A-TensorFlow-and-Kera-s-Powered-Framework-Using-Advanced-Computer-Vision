{
 "cells": [
  {
   "cell_type": "code",
   "execution_count": 1,
   "metadata": {},
   "outputs": [],
   "source": [
    "import os\n",
    "import shutil"
   ]
  },
  {
   "cell_type": "code",
   "execution_count": 5,
   "metadata": {},
   "outputs": [
    {
     "ename": "FileNotFoundError",
     "evalue": "[WinError 206] The filename or extension is too long: 'Smart-Waste-Classification-A-TensorFlow-and-Kera-s-Powered-Framework-Using-Advanced-Computer-Vision\\\\labelled_Data'",
     "output_type": "error",
     "traceback": [
      "\u001b[1;31m---------------------------------------------------------------------------\u001b[0m",
      "\u001b[1;31mFileNotFoundError\u001b[0m                         Traceback (most recent call last)",
      "Cell \u001b[1;32mIn[5], line 42\u001b[0m\n\u001b[0;32m     39\u001b[0m categories \u001b[38;5;241m=\u001b[39m [\u001b[38;5;124m'\u001b[39m\u001b[38;5;124mmetal\u001b[39m\u001b[38;5;124m'\u001b[39m, \u001b[38;5;124m'\u001b[39m\u001b[38;5;124mpaper\u001b[39m\u001b[38;5;124m'\u001b[39m, \u001b[38;5;124m'\u001b[39m\u001b[38;5;124mplastic\u001b[39m\u001b[38;5;124m'\u001b[39m, \u001b[38;5;124m'\u001b[39m\u001b[38;5;124mglass\u001b[39m\u001b[38;5;124m'\u001b[39m, \u001b[38;5;124m'\u001b[39m\u001b[38;5;124mbrown-glass\u001b[39m\u001b[38;5;124m'\u001b[39m, \u001b[38;5;124m'\u001b[39m\u001b[38;5;124mwhite-glass\u001b[39m\u001b[38;5;124m'\u001b[39m]\n\u001b[0;32m     41\u001b[0m \u001b[38;5;66;03m# Run the pipeline\u001b[39;00m\n\u001b[1;32m---> 42\u001b[0m \u001b[43mmove_images_to_recyclable\u001b[49m\u001b[43m(\u001b[49m\u001b[43mfolder1\u001b[49m\u001b[43m,\u001b[49m\u001b[43m \u001b[49m\u001b[43mfolder2\u001b[49m\u001b[43m,\u001b[49m\u001b[43m \u001b[49m\u001b[43mdestination_folder\u001b[49m\u001b[43m,\u001b[49m\u001b[43m \u001b[49m\u001b[43mcategories\u001b[49m\u001b[43m)\u001b[49m\n",
      "Cell \u001b[1;32mIn[5], line 17\u001b[0m, in \u001b[0;36mmove_images_to_recyclable\u001b[1;34m(folder1, folder2, destination_folder, categories)\u001b[0m\n\u001b[0;32m     14\u001b[0m \u001b[38;5;250m\u001b[39m\u001b[38;5;124;03m\"\"\"Moves images from two folders to the recyclable folder based on categories.\"\"\"\u001b[39;00m\n\u001b[0;32m     16\u001b[0m \u001b[38;5;66;03m# Create the destination folder\u001b[39;00m\n\u001b[1;32m---> 17\u001b[0m \u001b[43mcreate_folder_if_not_exists\u001b[49m\u001b[43m(\u001b[49m\u001b[43mdestination_folder\u001b[49m\u001b[43m)\u001b[49m\n\u001b[0;32m     19\u001b[0m \u001b[38;5;66;03m# Iterate through both folders and move matching files\u001b[39;00m\n\u001b[0;32m     20\u001b[0m \u001b[38;5;28;01mfor\u001b[39;00m folder \u001b[38;5;129;01min\u001b[39;00m [folder1, folder2]:\n",
      "Cell \u001b[1;32mIn[5], line 4\u001b[0m, in \u001b[0;36mcreate_folder_if_not_exists\u001b[1;34m(folder_path)\u001b[0m\n\u001b[0;32m      2\u001b[0m \u001b[38;5;250m\u001b[39m\u001b[38;5;124;03m\"\"\"Creates the folder if it doesn't already exist.\"\"\"\u001b[39;00m\n\u001b[0;32m      3\u001b[0m \u001b[38;5;28;01mif\u001b[39;00m \u001b[38;5;129;01mnot\u001b[39;00m os\u001b[38;5;241m.\u001b[39mpath\u001b[38;5;241m.\u001b[39mexists(folder_path):\n\u001b[1;32m----> 4\u001b[0m     \u001b[43mos\u001b[49m\u001b[38;5;241;43m.\u001b[39;49m\u001b[43mmakedirs\u001b[49m\u001b[43m(\u001b[49m\u001b[43mfolder_path\u001b[49m\u001b[43m)\u001b[49m\n\u001b[0;32m      5\u001b[0m     \u001b[38;5;28mprint\u001b[39m(\u001b[38;5;124mf\u001b[39m\u001b[38;5;124m\"\u001b[39m\u001b[38;5;124mCreated folder: \u001b[39m\u001b[38;5;132;01m{\u001b[39;00mfolder_path\u001b[38;5;132;01m}\u001b[39;00m\u001b[38;5;124m\"\u001b[39m)\n\u001b[0;32m      6\u001b[0m \u001b[38;5;28;01melse\u001b[39;00m:\n",
      "File \u001b[1;32m<frozen os>:215\u001b[0m, in \u001b[0;36mmakedirs\u001b[1;34m(name, mode, exist_ok)\u001b[0m\n",
      "File \u001b[1;32m<frozen os>:225\u001b[0m, in \u001b[0;36mmakedirs\u001b[1;34m(name, mode, exist_ok)\u001b[0m\n",
      "\u001b[1;31mFileNotFoundError\u001b[0m: [WinError 206] The filename or extension is too long: 'Smart-Waste-Classification-A-TensorFlow-and-Kera-s-Powered-Framework-Using-Advanced-Computer-Vision\\\\labelled_Data'"
     ]
    }
   ],
   "source": [
    "def create_folder_if_not_exists(folder_path):\n",
    "    \"\"\"Creates the folder if it doesn't already exist.\"\"\"\n",
    "    if not os.path.exists(folder_path):\n",
    "        os.makedirs(folder_path)\n",
    "        print(f\"Created folder: {folder_path}\")\n",
    "    else:\n",
    "        print(f\"Folder already exists: {folder_path}\")\n",
    "\n",
    "def filter_images_by_category(filename, categories):\n",
    "    \"\"\"Filters images by checking if the filename contains any category keyword.\"\"\"\n",
    "    return any(category in filename.lower() for category in categories)\n",
    "\n",
    "def move_images_to_recyclable(folder1, folder2, destination_folder, categories):\n",
    "    \"\"\"Moves images from two folders to the recyclable folder based on categories.\"\"\"\n",
    "    \n",
    "    # Create the destination folder\n",
    "    create_folder_if_not_exists(destination_folder)\n",
    "\n",
    "    # Iterate through both folders and move matching files\n",
    "    for folder in [folder1, folder2]:\n",
    "        for filename in os.listdir(folder):\n",
    "            # Check if the file matches the desired categories\n",
    "            if filter_images_by_category(filename, categories):\n",
    "                source_path = os.path.join(folder, filename)\n",
    "                dest_path = os.path.join(destination_folder, filename)\n",
    "\n",
    "                # Copy the file to the new folder\n",
    "                shutil.copy2(source_path, dest_path)  # You can use shutil.move() if you want to move instead of copying\n",
    "                print(f\"Copied {filename} to {destination_folder}\")\n",
    "\n",
    "    print(\"Image transfer completed.\")\n",
    "\n",
    "# Define your folder paths and categories\n",
    "folder1 = r'C:\\Users\\sagar\\OneDrive\\Desktop\\Fall 2024\\Smart-Waste-Classification-A-TensorFlow-and-Kera-s-Powered-Framework-Using-Advanced-Computer-Vision\\Raw_Data\\Dataset 1' \n",
    "folder2 = r\"C:\\Users\\sagar\\OneDrive\\Desktop\\Fall 2024\\Smart-Waste-Classification-A-TensorFlow-and-Kera-s-Powered-Framework-Using-Advanced-Computer-Vision\\Raw_Data\\garbage_classification\"  # Replace with actual path\n",
    "destination_folder = r\"C:\\Users\\sagar\\OneDrive\\Desktop\\Fall 2024\\Smart-Waste-Classification-A-TensorFlow-and-Kera-s-Powered-Framework-Using-Advanced-Computer-Vision\\labelled_Data\\Recyclable\"  # The new folder for recyclable materials\n",
    "\n",
    "# Define the categories you are interested in (metal, paper, plastic, glass)\n",
    "categories = ['metal', 'paper', 'plastic', 'glass', 'brown-glass', 'white-glass']\n",
    "\n",
    "# Run the pipeline\n",
    "move_images_to_recyclable(folder1, folder2, destination_folder, categories)"
   ]
  },
  {
   "cell_type": "code",
   "execution_count": null,
   "metadata": {},
   "outputs": [],
   "source": []
  }
 ],
 "metadata": {
  "kernelspec": {
   "display_name": "Python 3",
   "language": "python",
   "name": "python3"
  },
  "language_info": {
   "codemirror_mode": {
    "name": "ipython",
    "version": 3
   },
   "file_extension": ".py",
   "mimetype": "text/x-python",
   "name": "python",
   "nbconvert_exporter": "python",
   "pygments_lexer": "ipython3",
   "version": "3.12.0"
  }
 },
 "nbformat": 4,
 "nbformat_minor": 2
}
